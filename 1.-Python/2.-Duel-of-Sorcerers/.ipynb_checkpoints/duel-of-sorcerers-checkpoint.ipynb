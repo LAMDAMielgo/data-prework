{
 "cells": [
  {
   "cell_type": "markdown",
   "metadata": {},
   "source": [
    "<img src=\"https://bit.ly/2VnXWr2\" width=\"100\" align=\"left\">"
   ]
  },
  {
   "cell_type": "markdown",
   "metadata": {},
   "source": [
    "# Duel of Sorcerers\n",
    "You are witnessing an epic battle between two powerful sorcerers: Gandalf and Saruman. Each sorcerer has 10 spells of variable power in their mind and they are going to throw them one after the other. The winner of the duel will be the one who wins more of those clashes between spells. Spells are represented as a list of 10 integers whose value equals the power of the spell.\n",
    "```\n",
    "gandalf = [10, 11, 13, 30, 22, 11, 10, 33, 22, 22]\n",
    "saruman = [23, 66, 12, 43, 12, 10, 44, 23, 12, 17]\n",
    "```\n",
    "For example:\n",
    "- The first clash is won by Saruman: 10 against 23.\n",
    "- The second clash is won by Saruman: 11 against 66.\n",
    "- ...\n",
    "\n",
    "You will create two variables, one for each sorcerer, where the sum of clashes won will be stored. Depending on which variable is greater at the end of the duel, you will show one of the following three results on the screen:\n",
    "* Gandalf wins\n",
    "* Saruman wins\n",
    "* Tie\n",
    "\n",
    "<img src=\"images/content_lightning_bolt_big.jpg\" width=\"400\">"
   ]
  },
  {
   "cell_type": "markdown",
   "metadata": {},
   "source": [
    "## Tools\n",
    "You don't necessarily need to use all the tools. Maybe you opt to use some of them or completely different ones, they are given to help you shape the exercise. Programming exercises can be solved in many different ways.\n",
    "\n",
    "1. Data structures: **lists, dictionaries**\n",
    "2. Loop: **for loop**\n",
    "3. Conditional statements: **if-elif-else**\n",
    "4. Functions: **range(), len(), print()**\n",
    "\n",
    "## Tasks\n",
    "\n",
    "#### 1. Create two variables called `gandalf` and `saruman` and assign them the spell power lists. Create a variable called `spells` to store the number of spells that the sorcerers cast. "
   ]
  },
  {
   "cell_type": "code",
   "execution_count": 63,
   "metadata": {},
   "outputs": [],
   "source": [
    "# List of spells power:\n",
    "gandalf = [10, 11, 13, 30, 22, 11, 10, 33, 22, 22]\n",
    "saruman = [23, 66, 12, 43, 12, 10, 44, 23, 12, 17]\n",
    "\n",
    "spells = []\n"
   ]
  },
  {
   "cell_type": "markdown",
   "metadata": {},
   "source": [
    "#### 2. Create two variables called `gandalf_wins` and `saruman_wins`. Set both of them to 0. \n",
    "You will use these variables to count the number of clashes each sorcerer wins. "
   ]
  },
  {
   "cell_type": "code",
   "execution_count": 64,
   "metadata": {},
   "outputs": [],
   "source": [
    "# Counters for each sorcerer:\n",
    "gandalf_wins = 0\n",
    "saruman_wins = 0"
   ]
  },
  {
   "cell_type": "markdown",
   "metadata": {},
   "source": [
    "#### 3. Using the lists of spells of both sorcerers, update variables `gandalf_wins` and `saruman_wins` to count the number of times each sorcerer wins a clash. "
   ]
  },
  {
   "cell_type": "code",
   "execution_count": 65,
   "metadata": {},
   "outputs": [
    {
     "name": "stdout",
     "output_type": "stream",
     "text": [
      "['Saruman wins', 'Saruman wins', 'Gandalf wins', 'Saruman wins', 'Gandalf wins', 'Gandalf wins', 'Saruman wins', 'Gandalf wins', 'Gandalf wins', 'Gandalf wins']\n"
     ]
    }
   ],
   "source": [
    "for i,j in zip(gandalf, saruman):\n",
    "    if i == j:\n",
    "        spells.append(\"Tie\")\n",
    "    elif i > j:\n",
    "        spells.append(\"Gandalf wins\")\n",
    "        gandalf_wins += 1\n",
    "    elif i < j:\n",
    "        spells.append(\"Saruman wins\")\n",
    "        saruman_wins += 1\n",
    "    else:\n",
    "        pass\n",
    "\n",
    "print(spells)"
   ]
  },
  {
   "cell_type": "markdown",
   "metadata": {},
   "source": [
    "#### 4. Who won the battle?\n",
    "Print `Gandalf wins`, `Saruman wins` or `Tie` depending on the result. "
   ]
  },
  {
   "cell_type": "code",
   "execution_count": 66,
   "metadata": {},
   "outputs": [
    {
     "name": "stdout",
     "output_type": "stream",
     "text": [
      "Gandalf won 6 times \n",
      " Saruman won 4 times \n",
      "\n",
      "Gandalf wins the battle\n"
     ]
    }
   ],
   "source": [
    "\n",
    "print(f\"Gandalf won {gandalf_wins} times\", \"\\n\",\n",
    "      f\"Saruman won {saruman_wins} times\", \"\\n\"\n",
    "     )\n",
    "\n",
    "if gandalf_wins > saruman_wins:\n",
    "    print(\"Gandalf wins the battle\")\n",
    "elif gandalf_wins < saruman_wins:\n",
    "    print(\"Saruman wins the battle\")\n",
    "elif gandalf_wins == saruman_wins:\n",
    "    print(\"There's a tie\")"
   ]
  },
  {
   "cell_type": "markdown",
   "metadata": {},
   "source": [
    "## Bonus\n",
    "\n",
    "In this bonus challenge, you'll need to check the winner of the battle but this time, a sorcerer wins if he succeeds in winning 3 spell clashes in a row.\n",
    "\n",
    "Also, the spells now have a name and there is a dictionary that associates that name to a power.\n",
    "\n",
    "```\n",
    "POWER = {\n",
    "    'Fireball': 50, \n",
    "    'Lightning bolt': 40, \n",
    "    'Magic arrow': 10, \n",
    "    'Black Tentacles': 25, \n",
    "    'Contagion': 45\n",
    "}\n",
    "\n",
    "gandalf = ['Fireball', 'Lightning bolt', 'Lightning bolt', 'Magic arrow', 'Fireball', \n",
    "           'Magic arrow', 'Lightning bolt', 'Fireball', 'Fireball', 'Fireball']\n",
    "saruman = ['Contagion', 'Contagion', 'Black Tentacles', 'Fireball', 'Black Tentacles', \n",
    "           'Lightning bolt', 'Magic arrow', 'Contagion', 'Magic arrow', 'Magic arrow']\n",
    "```\n",
    "\n",
    "#### 1. Create variables `POWER`, `gandalf` and `saruman` as seen above. Create a variable called `spells` to store the number of spells that the sorcerers cast. "
   ]
  },
  {
   "cell_type": "code",
   "execution_count": 1,
   "metadata": {},
   "outputs": [],
   "source": [
    "# List of spells power:\n",
    "POWER = {\n",
    "    'Fireball': 50, \n",
    "    'Lightning bolt': 40, \n",
    "    'Magic arrow': 10, \n",
    "    'Black Tentacles': 25, \n",
    "    'Contagion': 45\n",
    "}\n",
    "\n",
    "gandalf = ['Fireball', 'Lightning bolt', 'Lightning bolt', 'Magic arrow', 'Fireball', 'Magic arrow', 'Lightning bolt', 'Fireball', 'Fireball', 'Fireball']\n",
    "saruman = ['Contagion', 'Contagion', 'Black Tentacles', 'Fireball', 'Black Tentacles', 'Lightning bolt', 'Magic arrow', 'Contagion', 'Magic arrow', 'Magic arrow']\n",
    "\n",
    "spells = []\n"
   ]
  },
  {
   "cell_type": "markdown",
   "metadata": {},
   "source": [
    "#### 2. Create two variables called `gandalf_wins` and `saruman_wins`. Set both of them to 0. "
   ]
  },
  {
   "cell_type": "code",
   "execution_count": 2,
   "metadata": {},
   "outputs": [],
   "source": [
    "# Counters for each sorcerer:\n",
    "gandalf_wins = 0\n",
    "saruman_wins = 0"
   ]
  },
  {
   "cell_type": "markdown",
   "metadata": {},
   "source": [
    "#### 3. Create two variables called `gandalf_power` and `saruman_power` to store the list of spell powers of each sorcerer."
   ]
  },
  {
   "cell_type": "code",
   "execution_count": 3,
   "metadata": {},
   "outputs": [],
   "source": [
    "gandalf_power = []\n",
    "saruman_power = []"
   ]
  },
  {
   "cell_type": "markdown",
   "metadata": {},
   "source": [
    "#### 4. The battle starts! Using the variables you've created above, code the execution of spell clashes. Remember that a sorcerer wins if he succeeds in winning 3 spell clashes in a row. \n",
    "If a clash ends up in a tie, the counter of wins in a row is not restarted to 0. Remember to print who is the winner of the battle. "
   ]
  },
  {
   "cell_type": "code",
   "execution_count": 4,
   "metadata": {},
   "outputs": [
    {
     "name": "stdout",
     "output_type": "stream",
     "text": [
      "Gandalf wins 7 rounds \n",
      " Saruman wins 3 rounds \n",
      "\n",
      "Ganfalf wins the battle\n"
     ]
    }
   ],
   "source": [
    "# From names to int\n",
    "for k1, k2 in zip(gandalf, saruman):\n",
    "    gandalf_power.append(POWER.get(k1))\n",
    "    saruman_power.append(POWER.get(k2))\n",
    "\n",
    "            \n",
    "# Comparison between sorcerers\n",
    "for i,j in zip(gandalf_power, saruman_power):\n",
    "    if i == j:\n",
    "        spells.append(\"0\")\n",
    "    elif i > j:\n",
    "        spells.append(\"1\")\n",
    "        gandalf_wins += 1\n",
    "    elif i < j:\n",
    "        spells.append(\"-1\")\n",
    "        saruman_wins += 1\n",
    "    else:\n",
    "        pass\n",
    "    \n",
    "    \n",
    "print(f\"Gandalf wins {gandalf_wins} rounds\", \"\\n\",\n",
    "      f\"Saruman wins {saruman_wins} rounds\", \"\\n\"\n",
    "     )\n",
    "\n",
    "\n",
    "# Counter and Storage of rounds result\n",
    "rounds = [];\n",
    "wins = 0\n",
    "\n",
    "for r in spells:\n",
    "    gandalf_wins = 0\n",
    "    saruman_wins = 0\n",
    "\n",
    "    wins += int(r)\n",
    "    rounds.append(wins)\n",
    "\n",
    "    if wins <= -3:\n",
    "        saruman_wins +=1\n",
    "        rounds = []\n",
    "    elif wins >= 3:\n",
    "        gandalf_wins +=1\n",
    "        rounds = []\n",
    "\n",
    "# BATTLE'S RESULT       \n",
    "if gandalf_wins > saruman_wins:\n",
    "    print(f\"Ganfalf wins the battle\")\n",
    "elif gandalf_wins < saruman_wins:\n",
    "    print(f\"Saruman wins the battle\")"
   ]
  },
  {
   "cell_type": "markdown",
   "metadata": {},
   "source": [
    "#### 5. Find the average spell power of Gandalf and Saruman. "
   ]
  },
  {
   "cell_type": "code",
   "execution_count": 5,
   "metadata": {},
   "outputs": [
    {
     "name": "stdout",
     "output_type": "stream",
     "text": [
      "The average spell power of Gandalf is 39.0\n",
      "The average spell power of Saruman is 30.5\n"
     ]
    }
   ],
   "source": [
    "gandalf_averageSpellPower = sum(gandalf_power)/len(gandalf_power)\n",
    "saruman_averageSpellPower = sum(saruman_power)/len(saruman_power)\n",
    "\n",
    "print(f\"The average spell power of Gandalf is {gandalf_averageSpellPower}\")\n",
    "print(f\"The average spell power of Saruman is {saruman_averageSpellPower}\")"
   ]
  },
  {
   "cell_type": "markdown",
   "metadata": {},
   "source": [
    "#### 6. Find the standard deviation of the spell power of Gandalf and Saruman. "
   ]
  },
  {
   "cell_type": "code",
   "execution_count": 6,
   "metadata": {},
   "outputs": [
    {
     "name": "stdout",
     "output_type": "stream",
     "text": [
      "The standart deviation of Gandalf's spell power is 39.0\n",
      "The standart deviation of Saruman's spell power is 30.5\n"
     ]
    }
   ],
   "source": [
    "import statistics\n",
    "\n",
    "gandalf_standDev = round(statistics.stdev(gandalf_power),2);\n",
    "saruman_standDev = round(statistics.stdev(saruman_power),2);\n",
    "\n",
    "\n",
    "print(f\"The standart deviation of Gandalf's spell power is {gandalf_averageSpellPower}\")\n",
    "print(f\"The standart deviation of Saruman's spell power is {saruman_averageSpellPower}\")"
   ]
  },
  {
   "cell_type": "code",
   "execution_count": null,
   "metadata": {},
   "outputs": [],
   "source": []
  }
 ],
 "metadata": {
  "kernelspec": {
   "display_name": "Python 3",
   "language": "python",
   "name": "python3"
  },
  "language_info": {
   "codemirror_mode": {
    "name": "ipython",
    "version": 3
   },
   "file_extension": ".py",
   "mimetype": "text/x-python",
   "name": "python",
   "nbconvert_exporter": "python",
   "pygments_lexer": "ipython3",
   "version": "3.7.6"
  }
 },
 "nbformat": 4,
 "nbformat_minor": 2
}
